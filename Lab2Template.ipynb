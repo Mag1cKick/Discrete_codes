{
  "cells": [
    {
      "cell_type": "markdown",
      "metadata": {
        "id": "TUMlYqj3oKCC"
      },
      "source": [
        "## Лабораторна робота №2: \"Імплементація алгоритмів стиснення\"\n",
        "\n",
        "Склад команди та розподіл виконаних завдань:\n",
        "\n",
        "-\n",
        "-\n",
        "\n",
        "Для кожного з алгоритмів поданих нижче\n",
        "- опишіть як працює алгорит\n",
        "- напишіть класи з методами encode та decode\n",
        "- перевірте правильність кодування та декодування\n",
        "- дослідіть час виконання коду в залежності від розмірів вхідних даних\n",
        "- оцініть ступінь стиснення(у відсотка) в залежності від розмірів\n",
        "- напишіть висновок про ефективність різних алгоритмів та умови за яких той чи інший алгоритм дають кращий результат"
      ]
    },
    {
      "cell_type": "markdown",
      "metadata": {
        "id": "q7FpJG25oNzA"
      },
      "source": [
        "# Алгоритм Гаффмана\n",
        "\n",
        "В цьому алгоритмі доцільно імплементувати клас node та додаткові функції в Huffman для побудови дерева кодування"
      ]
    },
    {
      "cell_type": "code",
      "execution_count": null,
      "metadata": {
        "id": "5fHzFB9gh7c2"
      },
      "outputs": [],
      "source": [
        "class Huffman:\n",
        "    def encode(self, text: str) -> tuple[str, dict[str, str]]:\n",
        "        pass\n",
        "\n",
        "    def decode(self, code: str, coding_dict: dict[str, str]):\n",
        "        pass"
      ]
    },
    {
      "cell_type": "markdown",
      "metadata": {
        "id": "6_0LIrbWoQxo"
      },
      "source": [
        "# Алгоритм LZW"
      ]
    },
    {
      "cell_type": "code",
      "execution_count": null,
      "metadata": {
        "id": "ogew0FkaoUNS"
      },
      "outputs": [],
      "source": [
        "class LZW:\n",
        "    def encode(self, text: str) -> tuple[str, list]:\n",
        "        pass\n",
        "\n",
        "    def decode(self, code: str, coding_dict: list) -> str:\n",
        "        pass"
      ]
    },
    {
      "cell_type": "markdown",
      "metadata": {
        "id": "eETQbkkDoTDc"
      },
      "source": [
        "# Алгоритм LZ77\n",
        "\n",
        "Потрібно заміряти розміри саме тексту, проте для роботи доцільно використовувати список тюплів, тому для зручності варто імплементувати додаткові алгоритми _text2list та _list2text"
      ]
    },
    {
      "cell_type": "code",
      "execution_count": 2,
      "metadata": {
        "id": "Mu1A0QS2oaOF"
      },
      "outputs": [
        {
          "name": "stdout",
          "output_type": "stream",
          "text": [
            "0,0,a|0,0,b|0,0,c|3,2,a|4,2,a|4,2,b|3,2,a|4,2,a|5,2,a|3,1,b|0,0,a\n",
            "-----------------------\n",
            "abcabacaaacbacabaacaacba\n",
            "True\n"
          ]
        }
      ],
      "source": [
        "class LZ77:\n",
        "    def __init__(self, buffer_size: int):\n",
        "        self.buf_size = buffer_size\n",
        "\n",
        "    def encode(self, text: str) -> str:\n",
        "        result = []\n",
        "        cursor = 0\n",
        "        while cursor < len(text):\n",
        "            offset = -1\n",
        "            copy_len = -1\n",
        "            matched = ''\n",
        "            for length in range(1, min(len(text)-cursor, self.buf_size)):\n",
        "                entry = text[cursor : cursor+length]\n",
        "                current_offset = text.rfind(entry, max(0, cursor-self.buf_size), cursor)\n",
        "                if current_offset != -1 and length > copy_len:\n",
        "                    offset = cursor - current_offset\n",
        "                    copy_len = length\n",
        "                    matched = entry\n",
        "            if matched:\n",
        "                result.append((offset, copy_len, text[cursor + copy_len]))\n",
        "                cursor += copy_len + 1\n",
        "            else:\n",
        "                result.append((0, 0, text[cursor]))\n",
        "                cursor += 1\n",
        "        return self._list2text(result)\n",
        "\n",
        "    def decode(self, code: str) -> str:\n",
        "        code = self._text2list(code)\n",
        "        result = ''\n",
        "        cursor = 0\n",
        "        while cursor < len(code):\n",
        "            offset, length, end = code[cursor]\n",
        "            if offset == 0:\n",
        "                result += end\n",
        "                cursor += 1\n",
        "            else:\n",
        "                start = len(result) - offset\n",
        "                for i in range(length):\n",
        "                    result += result[start + i]\n",
        "                result += end\n",
        "                cursor += 1\n",
        "        return result\n",
        "\n",
        "    def _text2list(self, string:str):\n",
        "        return [(int(el.split(',')[0]), int(el.split(',')[1]), el.split(',')[2]) for el in string.split('|')]\n",
        "\n",
        "    def _list2text(self, lst: list):\n",
        "        return '|'.join([','.join([str(s) for s in el]) for el in lst])\n",
        "\n",
        "\n",
        "\n",
        "lz77 = LZ77(5)\n",
        "print((res:=lz77.encode((text:='abcabacaaacbacabaacaacba'))))\n",
        "print('-----------------------')\n",
        "print(lz77.decode(res))\n",
        "print(text == lz77.decode(res))"
      ]
    },
    {
      "cell_type": "markdown",
      "metadata": {
        "id": "bz-B5jWroghO"
      },
      "source": [
        "# Алгоритм Deflate"
      ]
    },
    {
      "cell_type": "code",
      "execution_count": null,
      "metadata": {
        "id": "ZAU57ZQtogOC"
      },
      "outputs": [],
      "source": [
        "class Deflate:\n",
        "    def __init__(self, buffer_size: int):\n",
        "        pass\n",
        "\n",
        "    def encode(self, text: str) -> str:\n",
        "        pass\n",
        "\n",
        "    def decode(self, code: str) -> str:\n",
        "        pass"
      ]
    }
  ],
  "metadata": {
    "colab": {
      "provenance": []
    },
    "kernelspec": {
      "display_name": "Python 3",
      "name": "python3"
    },
    "language_info": {
      "name": "python"
    }
  },
  "nbformat": 4,
  "nbformat_minor": 0
}
