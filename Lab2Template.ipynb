{
  "cells": [
    {
      "cell_type": "markdown",
      "metadata": {
        "id": "TUMlYqj3oKCC"
      },
      "source": [
        "## Лабораторна робота №2: \"Імплементація алгоритмів стиснення\"\n",
        "\n",
        "Склад команди та розподіл виконаних завдань:\n",
        "\n",
        "-\n",
        "-\n",
        "\n",
        "Для кожного з алгоритмів поданих нижче\n",
        "- опишіть як працює алгорит\n",
        "- напишіть класи з методами encode та decode\n",
        "- перевірте правильність кодування та декодування\n",
        "- дослідіть час виконання коду в залежності від розмірів вхідних даних\n",
        "- оцініть ступінь стиснення(у відсотка) в залежності від розмірів\n",
        "- напишіть висновок про ефективність різних алгоритмів та умови за яких той чи інший алгоритм дають кращий результат"
      ]
    },
    {
      "cell_type": "markdown",
      "metadata": {
        "id": "q7FpJG25oNzA"
      },
      "source": [
        "# Алгоритм Гаффмана\n",
        "\n",
        "В цьому алгоритмі доцільно імплементувати клас node та додаткові функції в Huffman для побудови дерева кодування"
      ]
    },
    {
      "cell_type": "code",
      "execution_count": null,
      "metadata": {
        "id": "5fHzFB9gh7c2"
      },
      "outputs": [],
      "source": [
        "class Huffman:\n",
        "    def encode(self, text: str) -> tuple[str, dict[str, str]]:\n",
        "        pass\n",
        "\n",
        "    def decode(self, code: str, coding_dict: dict[str, str]):\n",
        "        pass"
      ]
    },
    {
      "cell_type": "markdown",
      "metadata": {
        "id": "6_0LIrbWoQxo"
      },
      "source": [
        "# Алгоритм LZW"
      ]
    },
    {
      "cell_type": "code",
      "execution_count": 1,
      "metadata": {
        "id": "ogew0FkaoUNS"
      },
      "outputs": [
        {
          "name": "stdout",
          "output_type": "stream",
          "text": [
            "('10, 1, 16, 28, 1, 22, 30, 24, 29, 22, 1, 34, 30, 1, 19, 53, 24, 34, 4, 1, 41, 23, 16, 36, 20, 1, 28, 16, 19, 65, 35, 31, 66, 39, 66, 48, 19, 59, 0, 14, 23, 20, 33, 65, 16, 32, 65, 34, 81, 1, 21, 24, 32, 33, 34, 90, 20, 37, 1, 37, 30, 32, 19, 33, 1, 30, 21, 51, 89, 29, 97, 40, 108, 65, 17, 82, 95, 112, 88, 65, 12, 30, 49, 116, 1, 14, 20, 38, 95, 10, 29, 125, 89, 8, 29, 34, 92, 65, 9, 24, 94, 101, 74, 13, 107, 80, 65, 11, 29, 30, 37, 131, 15, 29, 24, 64, 93, 20, 2, 1, 79, 23, 140, 1, 9, 16, 104, 14, 53, 165, 64, 1, 13, 156, 1, 6, 7, 3, 5, 179, 99, 101, 103, 113, 1, 115, 16, 95, 119, 1, 18, 35, 32, 86, 135, 181, 32, 27, 19, 1, 86, 18, 182, 1, 83, 95, 17, 74, 88, 187, 1, 31, 20, 93, 122, 99, 23, 53, 67, 69, 108, 210, 21, 27, 43, 48, 50, 18, 162, 18, 26, 20, 131, 0, 62, 29, 19, 17, 30, 30, 26, 208, 162, 49, 39, 59, 41, 28, 24, 22, 23, 95, 25, 35, 94, 185, 65, 33, 16, 39, 226, 200, 16, 236, 30, 44, 88, 226, 104, 189, 37, 217, 27, 87, 24, 28, 65, 41, 34, 39, 212, 1, 48, 108, 163, 33, 53, 39, 30, 35, 75, 250, 95, 22, 20, 95, 202, 29, 21, 254, 20, 199, 16, 1, 27, 30, 58, 160, 41, 253, 255, 19, 140, 202, 156, 301, 204, 265, 295, 243, 50, 34, 213, 32, 24, 17, 273, 59, 16, 35, 52, 202, 193, 20, 18, 95, 163, 122, 2, 159, 149, 339, 2', {'\\n': 0, ' ': 1, '!': 2, ',': 3, '.': 4, '0': 5, '3': 6, '5': 7, 'E': 8, 'H': 9, 'I': 10, 'K': 11, 'L': 12, 'O': 13, 'T': 14, 'U': 15, 'a': 16, 'b': 17, 'c': 18, 'd': 19, 'e': 20, 'f': 21, 'g': 22, 'h': 23, 'i': 24, 'j': 25, 'k': 26, 'l': 27, 'm': 28, 'n': 29, 'o': 30, 'p': 31, 'r': 32, 's': 33, 't': 34, 'u': 35, 'v': 36, 'w': 37, 'x': 38, 'y': 39, '…': 40})\n",
            "-----------------------\n",
            "I am going to do it. I have made up my mind. \n",
            "These are the first few words of the new… the best … the Longest Text In The Entire History Of The Known Universe! \n",
            "This Has To Have Over 35,000 words the beat the current world record set by that person who made that flaming chicken \n",
            "handbooky thingy. I might just be saying random things the whole time I type in this so you might get confused a lot. \n",
            "I just discovered something terrible. autocorrect is on!! no!!!\n",
            "True\n"
          ]
        }
      ],
      "source": [
        "class LZW:\n",
        "    def encode(self, text: str) -> tuple[str, dict]:\n",
        "\n",
        "        def next_num():\n",
        "            num = 0\n",
        "            while True:\n",
        "                yield num\n",
        "                num += 1\n",
        "        counter = next_num()\n",
        "        starting_code = {s: next(counter) for s in sorted(list(set(text)))}\n",
        "        coding_dict = starting_code.copy()\n",
        "        result = []\n",
        "        entry = ''\n",
        "        while text:\n",
        "            if (entry + text[0]) in coding_dict:\n",
        "                entry += text[0]\n",
        "            else:\n",
        "                result.append(str(coding_dict[entry]))\n",
        "                coding_dict[entry + text[0]] = next(counter)\n",
        "                entry = text[0]\n",
        "            text = text[1:]\n",
        "        result.append(str(coding_dict[entry]))\n",
        "        return (', '.join(result), starting_code)\n",
        "\n",
        "    def decode(self, code: str, coding_dict: dict) -> str:\n",
        "        decoding_dict = {coding_dict[x]: x for x in coding_dict}\n",
        "        result = ''\n",
        "        code = [int(el) for el in code.split(', ')]\n",
        "        current_code = code[0]\n",
        "        result += decoding_dict[current_code]\n",
        "        for next_code in code[1:]:\n",
        "            if next_code in decoding_dict:\n",
        "                entry = decoding_dict[next_code]\n",
        "            elif next_code == len(decoding_dict):\n",
        "                entry = decoding_dict[current_code][0] + decoding_dict[current_code][0]\n",
        "            else:\n",
        "                raise ValueError(\"Invalid LZW code\")\n",
        "            result += entry\n",
        "            decoding_dict[len(decoding_dict)] = decoding_dict[current_code] + entry[0]\n",
        "            current_code = next_code\n",
        "        return result\n",
        "\n",
        "lzw = LZW()\n",
        "print((code := lzw.encode((text :='I am going to do it. I have made up my mind. \\n\\\n",
        "These are the first few words of the new… the best … the Longest Text In The Entire History Of The Known Universe! \\n\\\n",
        "This Has To Have Over 35,000 words the beat the current world record set by that person who made that flaming chicken \\n\\\n",
        "handbooky thingy. I might just be saying random things the whole time I type in this so you might get confused a lot. \\n\\\n",
        "I just discovered something terrible. autocorrect is on!! no!!!'))))\n",
        "print('-----------------------')\n",
        "print(lzw.decode(*code))\n",
        "print(text == lzw.decode(*code))\n"
      ]
    },
    {
      "cell_type": "markdown",
      "metadata": {
        "id": "eETQbkkDoTDc"
      },
      "source": [
        "# Алгоритм LZ77\n",
        "\n",
        "Потрібно заміряти розміри саме тексту, проте для роботи доцільно використовувати список тюплів, тому для зручності варто імплементувати додаткові алгоритми _text2list та _list2text"
      ]
    },
    {
      "cell_type": "code",
      "execution_count": null,
      "metadata": {
        "id": "Mu1A0QS2oaOF"
      },
      "outputs": [],
      "source": [
        "class LZ77:\n",
        "    def __init__(self, buffer_size: int):\n",
        "        pass\n",
        "\n",
        "    def encode(self, text: str) -> str:\n",
        "        pass\n",
        "\n",
        "    def decode(self, code: str) -> str:\n",
        "        pass"
      ]
    },
    {
      "cell_type": "markdown",
      "metadata": {
        "id": "bz-B5jWroghO"
      },
      "source": [
        "# Алгоритм Deflate"
      ]
    },
    {
      "cell_type": "code",
      "execution_count": null,
      "metadata": {
        "id": "ZAU57ZQtogOC"
      },
      "outputs": [],
      "source": [
        "class Deflate:\n",
        "    def __init__(self, buffer_size: int):\n",
        "        pass\n",
        "\n",
        "    def encode(self, text: str) -> str:\n",
        "        pass\n",
        "\n",
        "    def decode(self, code: str) -> str:\n",
        "        pass"
      ]
    }
  ],
  "metadata": {
    "colab": {
      "provenance": []
    },
    "kernelspec": {
      "display_name": "Python 3",
      "name": "python3"
    },
    "language_info": {
      "codemirror_mode": {
        "name": "ipython",
        "version": 3
      },
      "file_extension": ".py",
      "mimetype": "text/x-python",
      "name": "python",
      "nbconvert_exporter": "python",
      "pygments_lexer": "ipython3",
      "version": "3.11.5"
    }
  },
  "nbformat": 4,
  "nbformat_minor": 0
}
