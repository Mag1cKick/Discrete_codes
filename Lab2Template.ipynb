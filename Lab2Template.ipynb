{
  "nbformat": 4,
  "nbformat_minor": 0,
  "metadata": {
    "colab": {
      "provenance": []
    },
    "kernelspec": {
      "name": "python3",
      "display_name": "Python 3"
    },
    "language_info": {
      "name": "python"
    }
  },
  "cells": [
    {
      "cell_type": "markdown",
      "source": [
        "## Лабораторна робота №2: \"Імплементація алгоритмів стиснення\"\n",
        "\n",
        "Склад команди та розподіл виконаних завдань:\n",
        "\n",
        "-\n",
        "-\n",
        "\n",
        "Для кожного з алгоритмів поданих нижче\n",
        "- опишіть як працює алгорит\n",
        "- напишіть класи з методами encode та decode\n",
        "- перевірте правильність кодування та декодування\n",
        "- дослідіть час виконання коду в залежності від розмірів вхідних даних\n",
        "- оцініть ступінь стиснення(у відсотка) в залежності від розмірів\n",
        "- напишіть висновок про ефективність різних алгоритмів та умови за яких той чи інший алгоритм дають кращий результат"
      ],
      "metadata": {
        "id": "TUMlYqj3oKCC"
      }
    },
    {
      "cell_type": "markdown",
      "source": [
        "# Алгоритм Гаффмана\n",
        "\n",
        "В цьому алгоритмі доцільно імплементувати клас node та додаткові функції в Huffman для побудови дерева кодування"
      ],
      "metadata": {
        "id": "q7FpJG25oNzA"
      }
    },
    {
      "cell_type": "code",
      "execution_count": null,
      "metadata": {
        "id": "5fHzFB9gh7c2"
      },
      "outputs": [],
      "source": [
        "class Huffman:\n",
        "    def encode(self, text: str) -> tuple[str, dict[str, str]]:\n",
        "        pass\n",
        "\n",
        "    def decode(self, code: str, coding_dict: dict[str, str]):\n",
        "        pass"
      ]
    },
    {
      "cell_type": "markdown",
      "source": [
        "# Алгоритм LZW"
      ],
      "metadata": {
        "id": "6_0LIrbWoQxo"
      }
    },
    {
      "cell_type": "code",
      "source": [
        "class LZW:\n",
        "    def encode(self, text: str) -> tuple[str, list]:\n",
        "        pass\n",
        "\n",
        "    def decode(self, code: str, coding_dict: list) -> str:\n",
        "        pass"
      ],
      "metadata": {
        "id": "ogew0FkaoUNS"
      },
      "execution_count": null,
      "outputs": []
    },
    {
      "cell_type": "markdown",
      "source": [
        "# Алгоритм LZ77\n",
        "\n",
        "Потрібно заміряти розміри саме тексту, проте для роботи доцільно використовувати список тюплів, тому для зручності варто імплементувати додаткові алгоритми _text2list та _list2text"
      ],
      "metadata": {
        "id": "eETQbkkDoTDc"
      }
    },
    {
      "cell_type": "code",
      "source": [
        "class LZ77:\n",
        "    def __init__(self, buffer_size: int):\n",
        "        pass\n",
        "\n",
        "    def encode(self, text: str) -> str:\n",
        "        pass\n",
        "\n",
        "    def decode(self, code: str) -> str:\n",
        "        pass"
      ],
      "metadata": {
        "id": "Mu1A0QS2oaOF"
      },
      "execution_count": null,
      "outputs": []
    },
    {
      "cell_type": "markdown",
      "source": [
        "# Алгоритм Deflate"
      ],
      "metadata": {
        "id": "bz-B5jWroghO"
      }
    },
    {
      "cell_type": "code",
      "source": [
        "class Deflate:\n",
        "    def __init__(self, buffer_size: int):\n",
        "        pass\n",
        "\n",
        "    def encode(self, text: str) -> str:\n",
        "        pass\n",
        "\n",
        "    def decode(self, code: str) -> str:\n",
        "        pass"
      ],
      "metadata": {
        "id": "ZAU57ZQtogOC"
      },
      "execution_count": null,
      "outputs": []
    }
  ]
}